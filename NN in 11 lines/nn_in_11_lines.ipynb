{
  "nbformat": 4,
  "nbformat_minor": 0,
  "metadata": {
    "colab": {
      "name": "nn in 11 lines.ipynb",
      "version": "0.3.2",
      "provenance": [],
      "private_outputs": true
    },
    "kernelspec": {
      "name": "python3",
      "display_name": "Python 3"
    },
    "accelerator": "GPU"
  },
  "cells": [
    {
      "metadata": {
        "id": "OkQ-ortofqY2",
        "colab_type": "text"
      },
      "cell_type": "markdown",
      "source": [
        "# Toy neural network "
      ]
    },
    {
      "metadata": {
        "id": "WmS3sPNVoJVY",
        "colab_type": "code",
        "colab": {}
      },
      "cell_type": "code",
      "source": [
        "import numpy as np"
      ],
      "execution_count": 0,
      "outputs": []
    },
    {
      "metadata": {
        "id": "MwTJQN2tyAnb",
        "colab_type": "text"
      },
      "cell_type": "markdown",
      "source": [
        "We are going to make a simple 1 layer neural net and train it using the data shown in the [slides](https://docs.google.com/presentation/d/1iKj6lMm-EpkmuxD96_HKeikfVq3VnMeED7qigNWItQQ/edit?usp=sharing)\n"
      ]
    },
    {
      "metadata": {
        "id": "0PoPMu6WgHm4",
        "colab_type": "text"
      },
      "cell_type": "markdown",
      "source": [
        "### Sigmoid Function"
      ]
    },
    {
      "metadata": {
        "id": "B7h0oSlngQPv",
        "colab_type": "code",
        "colab": {}
      },
      "cell_type": "code",
      "source": [
        "# write the funtion for sigmoid\n",
        "\n",
        "def sigmoidFun(x, deriv=False):\n",
        "  if(deriv == True):\n",
        "    return x*(1-x)\n",
        "  else:\n",
        "    return 1/(1 + np.exp(-x))\n",
        "\n",
        "  \n",
        "#check the output of the function\n",
        "sigmoid(np.array([0, 10000000000, -10000000000]))"
      ],
      "execution_count": 0,
      "outputs": []
    },
    {
      "metadata": {
        "id": "BYDLXFJ4ouCa",
        "colab_type": "text"
      },
      "cell_type": "markdown",
      "source": [
        "### Input and Output data"
      ]
    },
    {
      "metadata": {
        "id": "tTKkhltwpNlK",
        "colab_type": "code",
        "colab": {}
      },
      "cell_type": "code",
      "source": [
        "# input data\n",
        "\n",
        "x = np.array([ \n",
        "          [0,0,1],\n",
        "          [0,1,1],\n",
        "          [1,0,1],\n",
        "          [1,1,1],\n",
        "])\n",
        "\n",
        "# output data\n",
        "\n",
        "y = np.array([[0,0,1,1]]).T\n",
        "\n",
        "assert(x.shape == (4,3))\n",
        "assert(y.shape == (4,1))"
      ],
      "execution_count": 0,
      "outputs": []
    },
    {
      "metadata": {
        "id": "AMrUcP5tp53C",
        "colab_type": "text"
      },
      "cell_type": "markdown",
      "source": [
        "### Initialize the weights"
      ]
    },
    {
      "metadata": {
        "id": "0i4NVeLtqqqp",
        "colab_type": "code",
        "colab": {}
      },
      "cell_type": "code",
      "source": [
        "# this is considered to be a best practice since it makes the \n",
        "# results reproducable\n",
        "np.random.seed(1)\n",
        "\n",
        "# initialize the weights with mean 0\n",
        "syn0 = 2*np.random.rand(3,1) -1\n",
        "\n",
        "assert(syn0.shape == (3,1))"
      ],
      "execution_count": 0,
      "outputs": []
    },
    {
      "metadata": {
        "id": "YSoKPvdTrlMS",
        "colab_type": "text"
      },
      "cell_type": "markdown",
      "source": [
        "### Let the training begin!"
      ]
    },
    {
      "metadata": {
        "id": "_VpppjCisNCd",
        "colab_type": "code",
        "colab": {}
      },
      "cell_type": "code",
      "source": [
        "for i in range(10000):\n",
        "  \n",
        "  #forward propagation\n",
        "  l0 = x\n",
        "  l1 = np.dot(l0, syn0)\n",
        "\n",
        "  #apply non-linearity\n",
        "  l1 = sigmoidFun(l1)\n",
        "\n",
        "  # calculate the error\n",
        "  l1_err = y - l1\n",
        "\n",
        "  # Multiply the error with the gradient obtained to figure out how much\n",
        "  # and in which direction we have to turn the nobs of out NN\n",
        "\n",
        "  l1_delt = l1_err*sigmoidFun(l1, deriv=True)\n",
        "\n",
        "  # finaly update the wights\n",
        "\n",
        "  syn0 += np.dot(l0.T,l1_delt)\n",
        "\n",
        "print('Output after Training')\n",
        "print(l1)"
      ],
      "execution_count": 0,
      "outputs": []
    },
    {
      "metadata": {
        "id": "myrwZ6UluI-Z",
        "colab_type": "code",
        "colab": {}
      },
      "cell_type": "code",
      "source": [
        ""
      ],
      "execution_count": 0,
      "outputs": []
    }
  ]
}